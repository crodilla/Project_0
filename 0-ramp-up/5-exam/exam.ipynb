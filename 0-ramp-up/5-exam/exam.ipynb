{
 "cells": [
  {
   "cell_type": "markdown",
   "metadata": {},
   "source": [
    "# Test DS-FT"
   ]
  },
  {
   "cell_type": "code",
   "execution_count": 2,
   "metadata": {},
   "outputs": [],
   "source": [
    "# Escribe tu nombre y apellidos (apellido si solo tienes uno) en la variable:\n",
    "nombre_y_apellidos = \"Cristina Rodilla Hernandez\" \n",
    "# Correo electrónico\n",
    "correo_electronico = \"cristinarodilla@gmail.com\""
   ]
  },
  {
   "cell_type": "code",
   "execution_count": null,
   "metadata": {},
   "outputs": [],
   "source": [
    "# Ejemplo de como queremos ver el código para más de un intento:\n",
    "\n",
    "# intento 1\n",
    "your code\n",
    "# intento 2\n",
    "your code"
   ]
  },
  {
   "cell_type": "markdown",
   "metadata": {},
   "source": [
    "### Ejercicio 1 (1 punto)\n",
    "En este ejercicio se va a crear una lista con los siguientes elementos. Primero, crearemos las variables que luego añadiremos a la lista. Las variables son las siguientes:\n",
    "\n",
    "1. Crea una variable llamada `edad` de tipo Integer que represente tu edad en años. \n",
    "2. Crea una variable llamada `nombre` de tipo String , concatenando tu nombre seguido de un espacio en blanco y la inicial de tu primer apellido a partir de la variable `nombre_y_apellidos`.\n",
    "3. Crea una variable llamada `altura` con el valor de tu altura en metros de tipo float.\n",
    "4. Crea una variable llamada `tipo_ord` de tipo Boolean True si usas Windows y False si usas Mac.\n",
    "5. Crea una variable llamada `nada` de tipo None cuyo valor sea None.\n",
    "6. Crea una variable llamada `lista_series` de tipo List que contenga las 5 series de TV que más te gusten. Cada elemento ha de ser de tipo String.\n",
    "7. Crea una variable llamada `tupla_ropa` de tipo Tuple con la marca de la prenda superior, inferior y calzado que llevas puesto.\n",
    "8. Crea una variable llamada `dict_info` con dos keys y dos values. Una key es `ciudad`, teniendo como value la ciudad en la que vives. Otra key es `portal`, teniendo como value el número de tu calle.\n",
    "9. Añade todos estos elementos en una lista llamada `lista_examen` en el orden de aparición **usando una función de lista**. \n",
    "10. Responde en un comentario a la siguiente pregunta: Si `lista_examen` tuviera 10 veces más elementos, ¿cómo te asegurarías de que no tiene ningún elemento repetido?\n"
   ]
  },
  {
   "cell_type": "code",
   "execution_count": 3,
   "metadata": {},
   "outputs": [
    {
     "name": "stdout",
     "output_type": "stream",
     "text": [
      "Cristina R\n",
      "{'ciudad': 'Aviles', 'portal': 26}\n",
      "[27, 'Cristina R', 1.56, True, None, ['Friends', 'Simpsons', 'Jupiter', 'Hana', 'Lost'], ('Zara', 'HM', 'Lefties'), {'ciudad': 'Aviles', 'portal': 26}]\n"
     ]
    }
   ],
   "source": [
    "edad = 27\n",
    "n = nombre_y_apellidos.split(\" \")\n",
    "nombre = f\"{n[0]} {n[1][0]}\"\n",
    "print(nombre)\n",
    "\n",
    "altura = 1.56\n",
    "\n",
    "tipo_ord = bool(\"Windows\") # Como crear una variable booleana con mas de un valor\n",
    "#tipo_ord = (\"Windows\"==True, \"Mac\"==False) # Esto es erróneo, pero no se como mejorarlo???\n",
    "\n",
    "\n",
    "nada = None\n",
    "\n",
    "lista_series = [\"Friends\", \"Simpsons\", \"Jupiter\", \"Hana\", \"Lost\"]\n",
    "\n",
    "tupla_ropa = (\"Zara\", \"HM\", \"Lefties\")\n",
    "\n",
    "dict_info ={\n",
    "    \"ciudad\": \"Aviles\",\n",
    "    \"portal\": 26\n",
    "}\n",
    "print(dict_info)\n",
    "lista_examen = [edad, nombre, altura, tipo_ord, nada, lista_series, tupla_ropa, dict_info] #Esto no tiene función asociada, buscar otra opcion\n",
    "print(lista_examen)\n",
    "#lista_examen = lista_examen.extend(edad, nombre, altura, tipo_ord, nada, lista_series, tupla_ropa, dict_info)\n",
    "#Respuesta: Generaria un set de esa lista"
   ]
  },
  {
   "cell_type": "markdown",
   "id": "ff4becae-86c4-46ab-9e09-3aeec5296700",
   "metadata": {},
   "source": [
    "### Ejercicio 2 (2 puntos)\n",
    "\n",
    "Para resolver este ejercicio necesitarás la lista del ejercicio anterior (`lista_examen`). Se recomienda leer cada punto hasta el final antes de resolver el ejercicio.\n",
    "\n",
    "Se repite para que quede aún más claro: **SOLO USAR LA VARIABLE** `lista_examen`. Usar las demás variables se calificará como error.  \n",
    "\n",
    "Mostrar por pantalla, sin uso de funciones (puedes usar print) ni bucles: \n",
    "- Un mensaje de presentación con tu nombre y edad\n",
    "- Un mensaje de presentación con tu nombre y edad a partir del diccionario\n",
    "- La segunda serie de TV y la penúltima contando por atrás.\n",
    "- La marca de tu calzado.\n",
    "- Si tu altura es menor que 1.80, muestra la marca de tu calzado, si no, la de tu prenda superior\n",
    "- Si la inicial de tu ciudad y de tu nombre son una consonante, mostrar la ciudad y tu nombre, si no,muestra solo la ciudad.  \n",
    "\n",
    "Mostrar por pantalla, con uso de un bucle `for`:\n",
    "- Todos los elementos de `lista_examen`.\n",
    "- Todos los elementos de `lista_examen` al revés\n",
    "- Todos aquellos elementos que se encuentren dentro de otra colección ordenada y ocupen un índice impar\n",
    "- La ciudad si coincide dentro de una lista_de_ciudades = [\"Barcelona\",\"Madrid\"], si no \"ciudad no encontrada\"  \n",
    "\n",
    "Con uso del bucle while, borra las series de TV por la cola hasta que tengas 2 series y guarda esas series borradas en una nueva lista `series_borradas`.  \n",
    "\n",
    "Añade esas series que has borrado en la mitad de la lista de tus series.\n",
    "    \n",
    "\n",
    "    "
   ]
  },
  {
   "cell_type": "code",
   "execution_count": 4,
   "metadata": {},
   "outputs": [
    {
     "name": "stdout",
     "output_type": "stream",
     "text": [
      "Cristina R Edad: 27\n",
      "{'ciudad': 'Aviles', 'portal': 26}\n",
      "Simpsons and Hana\n",
      "Lefties\n",
      "Lefties\n",
      "{'ciudad': 'Aviles', 'portal': 26}\n",
      "{'ciudad': 'Aviles', 'portal': 26} Cristina R\n",
      "27\n",
      "Cristina R\n",
      "1.56\n",
      "True\n",
      "None\n",
      "['Friends', 'Simpsons', 'Jupiter', 'Hana', 'Lost']\n",
      "('Zara', 'HM', 'Lefties')\n",
      "{'ciudad': 'Aviles', 'portal': 26}\n",
      "{'ciudad': 'Aviles', 'portal': 26}\n",
      "('Zara', 'HM', 'Lefties')\n",
      "['Friends', 'Simpsons', 'Jupiter', 'Hana', 'Lost']\n",
      "None\n",
      "True\n",
      "1.56\n",
      "Cristina R\n",
      "27\n"
     ]
    }
   ],
   "source": [
    "print(f\"{lista_examen[1]} Edad: {lista_examen[0]}\")\n",
    "print(f\"{lista_examen[7]}\") #mensaje de presentación con tu nombre y edad a partir del diccionario???\n",
    "print(f\"{lista_examen[5][1]} and {lista_examen[5][-2]}\")\n",
    "print(f\"{lista_examen[6][2]}\")\n",
    "\n",
    "if lista_examen[2] <1.8:\n",
    "    print(f\"{lista_examen[6][2]}\")\n",
    "else:\n",
    "    print(f\"{lista_examen[6][1]}\")\n",
    "\n",
    "vocales = [\"a\", \"e\", \"i\", \"o\", \"u\"]\n",
    "print(lista_examen[7])\n",
    "\n",
    "if (lista_examen[7][\"ciudad\"][0] in vocales) and (lista_examen[1][0] in vocales):\n",
    "    print(f\"{lista_examen[7]}\")\n",
    "else:\n",
    "    print(f\"{lista_examen[7]} {lista_examen[1]}\")\n",
    "\n",
    "for elem in lista_examen:\n",
    "    print(elem)\n",
    "for elem in reversed(lista_examen):\n",
    "    print(elem)\n"
   ]
  },
  {
   "cell_type": "code",
   "execution_count": 7,
   "metadata": {},
   "outputs": [
    {
     "name": "stdout",
     "output_type": "stream",
     "text": [
      "Simpsons\n",
      "Hana\n",
      "HM\n"
     ]
    }
   ],
   "source": [
    "for lst in lista_examen:\n",
    "    if type(lst) in [type(list()), type(tuple())]:\n",
    "        for pos in range(len(lst)):\n",
    "            if pos % 2 !=0:\n",
    "                print(lst[pos])\n",
    "lista_de_ciudades = [\"Barcelona\",\"Madrid\"]\n"
   ]
  },
  {
   "cell_type": "code",
   "execution_count": 8,
   "metadata": {},
   "outputs": [
    {
     "name": "stdout",
     "output_type": "stream",
     "text": [
      "A\n"
     ]
    }
   ],
   "source": [
    "print(lista_examen[7][\"ciudad\"][0])"
   ]
  },
  {
   "cell_type": "markdown",
   "metadata": {},
   "source": [
    "### Ejercicio 3 (2 puntos)\n",
    "\n",
    "#### Crear un programa que calcule la cuota de una hipoteca\n",
    "\n",
    "Las cuotas hipotecarias se calculan utilizando la fórmula del interés frances. \n",
    "\n",
    "La formula del interés frances es la siguiente:\n",
    "\\begin{align*}\n",
    "C=V \\frac{(1+i)^n i}{(1+i)^n -1}\n",
    "\\end{align*}\n",
    "\n",
    "\n",
    "    C = Cuota a pagar (mensual)\n",
    "    V = Cantidad del préstamo hipotecario\n",
    "    i = tipo de interés del período (mensual)\n",
    "    n = número de cuotas (mensual)\n",
    "\n",
    "1. Crea un programa que solicite al usuario los datos de su hipoteca (cantidad, interés **anual**, y plazo en **años**) y le devuelva la cuota **mensual** a pagar **sin funciones**.\n",
    "2. Calcula la cuota si la cantidad de la hipoteca son 250000 euros, el interés anual es del 3% y la quiere pagar en 20 años.\n",
    "3. Crea una función `calc_cuota_hip` que realiza el cálculo y cuyos argumentos sean `cantidad_euros`, `interes_anual` y `anios_pago`.\n",
    "4. Crea una función `calc_cuota_hip_noargs` que realice el mismo cálculo pero sin argumentos de entrada y que contenga otra función dentro `recoger_datos_usuario` que recoja los datos del usuario.\n"
   ]
  },
  {
   "cell_type": "code",
   "execution_count": 3,
   "metadata": {},
   "outputs": [
    {
     "name": "stdout",
     "output_type": "stream",
     "text": [
      "201235.81380259318\n",
      "201235.81380259318\n",
      "201235.81380259318\n"
     ]
    }
   ],
   "source": [
    "cantidad = 250000\n",
    "interes_anual = 3\n",
    "plazo_anual = 20\n",
    "interes_mensual = interes_anual/12\n",
    "plazo_mensual = plazo_anual/12\n",
    "cuota = cantidad*(((1+interes_mensual)**plazo_mensual)*interes_mensual)/(((1+interes_mensual)**plazo_mensual)-1)\n",
    "print(cuota)\n",
    "\n",
    "def calc_hipoteca(cantidad, interes_anual, plazo_anual):\n",
    "    interes_mensual = interes_anual/12\n",
    "    plazo_mensual = plazo_anual/12\n",
    "    cuota = cantidad*(((1+interes_mensual)**plazo_mensual)*interes_mensual)/(((1+interes_mensual)**plazo_mensual)-1)\n",
    "    return cuota\n",
    "\n",
    "ej_2 = calc_hipoteca(250000, 3, 20)\n",
    "print(ej_2)\n",
    "\n",
    "#Apartado 4\n",
    "def calc_hipoteca_noargs(*args):\n",
    "    def recoger_datos_usuario (cantidad, interes_anual, plazo_anual):\n",
    "        cantidad = int(input())\n",
    "        interes_anual = int(input())\n",
    "        plazo_anual = int(input())\n",
    "    interes_mensual = interes_anual/12\n",
    "    plazo_mensual = plazo_anual/12\n",
    "    cuota = cantidad*(((1+interes_mensual)**plazo_mensual)*interes_mensual)/(((1+interes_mensual)**plazo_mensual)-1)\n",
    "    return cuota\n",
    "\n",
    "ej_2 = calc_hipoteca(250000, 3, 20)\n",
    "print(ej_2)"
   ]
  },
  {
   "cell_type": "markdown",
   "metadata": {},
   "source": [
    "### Ejercicio 4 (2 puntos)\n",
    "\n",
    "1. Crea una clase \"Humano\" que tenga 4 atributos: \"ojos\"(int default 2), \"edad\"(int), \"altura\"(float) y \"nombre\"(str). Además, debe contar con dos métodos: \n",
    "\n",
    "- \"cumplir_edad\": al llamar a este método se debe sumar 1 al atributo edad del humano y que retorne la edad actualizada. \n",
    "- \"registro_nombre\" que recibe parametro \"nuevo_nombre\": al llamar a esta función con un parámetro de entrada, este método debe cambiar el nombre del humano por el \"nuevo_nombre\" y sin retornar nada\n",
    "\n",
    "2. Crea un humano llamado \"Cojoncio\" que tiene el doble de tu de edad (a partir de la variable `lista_examen`) y mide 10 centímetros menos que tu altura (a partir de la variable `lista_examen`). A \"Cojoncio\" nunca le gustó su nombre. Por eso, usa el método correspondiente para cambiarle su nombre por \"Goku\". Además, hoy es su cumpleaños por lo que usa el método correspondiente para aumentar su edad. Muestra tanto el nombre como la edad antes y después ejecutar los métodos.\n",
    "\n",
    "\n",
    "3. Documenta la clase con el estilo de Google\n"
   ]
  },
  {
   "cell_type": "code",
   "execution_count": 8,
   "metadata": {},
   "outputs": [
    {
     "name": "stdout",
     "output_type": "stream",
     "text": [
      "Help on class classmethod in module builtins:\n",
      "\n",
      "class classmethod(object)\n",
      " |  classmethod(function) -> method\n",
      " |  \n",
      " |  Convert a function to be a class method.\n",
      " |  \n",
      " |  A class method receives the class as implicit first argument,\n",
      " |  just like an instance method receives the instance.\n",
      " |  To declare a class method, use this idiom:\n",
      " |  \n",
      " |    class C:\n",
      " |        @classmethod\n",
      " |        def f(cls, arg1, arg2, ...):\n",
      " |            ...\n",
      " |  \n",
      " |  It can be called either on the class (e.g. C.f()) or on an instance\n",
      " |  (e.g. C().f()).  The instance is ignored except for its class.\n",
      " |  If a class method is called for a derived class, the derived class\n",
      " |  object is passed as the implied first argument.\n",
      " |  \n",
      " |  Class methods are different than C++ or Java static methods.\n",
      " |  If you want those, see the staticmethod builtin.\n",
      " |  \n",
      " |  Methods defined here:\n",
      " |  \n",
      " |  __get__(self, instance, owner, /)\n",
      " |      Return an attribute of instance, which is of type owner.\n",
      " |  \n",
      " |  __init__(self, /, *args, **kwargs)\n",
      " |      Initialize self.  See help(type(self)) for accurate signature.\n",
      " |  \n",
      " |  ----------------------------------------------------------------------\n",
      " |  Static methods defined here:\n",
      " |  \n",
      " |  __new__(*args, **kwargs) from builtins.type\n",
      " |      Create and return a new object.  See help(type) for accurate signature.\n",
      " |  \n",
      " |  ----------------------------------------------------------------------\n",
      " |  Data descriptors defined here:\n",
      " |  \n",
      " |  __dict__\n",
      " |  \n",
      " |  __func__\n",
      " |  \n",
      " |  __isabstractmethod__\n",
      "\n"
     ]
    }
   ],
   "source": [
    "class Human:\n",
    "    \"ojos\" = int()\n",
    "    "
   ]
  },
  {
   "cell_type": "code",
   "execution_count": 15,
   "metadata": {},
   "outputs": [
    {
     "name": "stdout",
     "output_type": "stream",
     "text": [
      "{'a': 'aa', 'b': 'bb'}\n",
      "a\n",
      "b\n",
      "aa\n",
      "4\n"
     ]
    }
   ],
   "source": [
    "#float(\"67,98\")\n",
    "#for i in \"thebridge\":\n",
    "#    print(i)\n",
    "\n",
    "dicc = {\n",
    "    \"a\" : \"aa\",\n",
    "    \"b\" : \"bb\"\n",
    "}\n",
    "print(dicc)\n",
    "for i in dicc:\n",
    "    print(i)\n",
    "\n",
    "print(dicc[\"a\"])\n",
    "\n",
    "mi_lista = [1, 2, 3]\n",
    "#mi_lista[len(mi_lista)]\n",
    "\n",
    "\n",
    "a = [1,2,3]\n",
    "b=[6,2,8]\n",
    "\n",
    "x=2\n",
    "if x:\n",
    "    print(4)\n",
    "else:\n",
    "    print(3)"
   ]
  }
 ],
 "metadata": {
  "kernelspec": {
   "display_name": "Python 3",
   "language": "python",
   "name": "python3"
  },
  "language_info": {
   "codemirror_mode": {
    "name": "ipython",
    "version": 3
   },
   "file_extension": ".py",
   "mimetype": "text/x-python",
   "name": "python",
   "nbconvert_exporter": "python",
   "pygments_lexer": "ipython3",
   "version": "3.7.4"
  },
  "orig_nbformat": 4,
  "vscode": {
   "interpreter": {
    "hash": "35df9af985c0a9ca94b175eada638357a7ba8d43dfdf790649b4983f7a933da6"
   }
  }
 },
 "nbformat": 4,
 "nbformat_minor": 2
}
