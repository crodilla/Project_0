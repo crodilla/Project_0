{
 "cells": [
  {
   "cell_type": "markdown",
   "metadata": {},
   "source": [
    "![imagen](./img/ejercicios.png)"
   ]
  },
  {
   "cell_type": "markdown",
   "metadata": {},
   "source": [
    "# Ejercicios Python Basics I"
   ]
  },
  {
   "cell_type": "markdown",
   "metadata": {},
   "source": [
    "## Ejercicio 1\n",
    "Imprime por pantalla esta cita con el siguiente formato\n",
    "\n",
    "![imagen](./img/frase_Einstein.PNG)"
   ]
  },
  {
   "cell_type": "code",
   "execution_count": 12,
   "metadata": {},
   "outputs": [
    {
     "name": "stdout",
     "output_type": "stream",
     "text": [
      "¿Por qué esta magnífica tecnología científica,\n",
      "    que ahorra trabajo y nos hace la vida más fácil,\n",
      "        nos aporta tan poca felicidad?\n",
      "            La respuesta es esta, simplemente: porque aún no hemos aprendido a usarla con tino.\n",
      "\"Albert Einstein\" \n"
     ]
    }
   ],
   "source": [
    "cita = f\"\"\"¿Por qué esta magnífica tecnología científica,\n",
    "    que ahorra trabajo y nos hace la vida más fácil,\n",
    "        nos aporta tan poca felicidad?\n",
    "            La respuesta es esta, simplemente: porque aún no hemos aprendido a usarla con tino.\n",
    "\\\"Albert Einstein\\\" \"\"\"\n",
    "\n",
    "print(cita)"
   ]
  },
  {
   "cell_type": "markdown",
   "metadata": {},
   "source": [
    "## Ejercicio 2\n",
    "1. Escribe el nombre de la calle de tu domicilio\n",
    "2. Escribe el numero de la calle en otra\n",
    "3. Población en una tercera\n",
    "4. Codigo postal en la cuarta variable\n",
    "5. Crea una quinta variable que concatene todas ellas\n",
    "6. Imprimela por pantalla"
   ]
  },
  {
   "cell_type": "code",
   "execution_count": 5,
   "metadata": {},
   "outputs": [
    {
     "name": "stdout",
     "output_type": "stream",
     "text": [
      "Gonzalez 15 Madrid 28026\n"
     ]
    }
   ],
   "source": [
    "calle = \"Gonzalez\"\n",
    "numero = 15\n",
    "poblacion = \"Madrid\"\n",
    "cod_postal = 28026\n",
    "direc = f\"{calle} {str(numero)} {poblacion} {str(cod_postal)}\"\n",
    "print(direc)"
   ]
  },
  {
   "cell_type": "markdown",
   "metadata": {},
   "source": [
    "## Ejercicio 3\n",
    "Replica el output del ejercicio dos, pero está vez sin usar una variable intermedia que concatene todas las demas. Realiza este ejercicio en una línea, con un  único `print`"
   ]
  },
  {
   "cell_type": "code",
   "execution_count": 6,
   "metadata": {},
   "outputs": [
    {
     "name": "stdout",
     "output_type": "stream",
     "text": [
      "Gonzalez 15 Madrid 28026\n"
     ]
    }
   ],
   "source": [
    "print(f\"{calle} {str(numero)} {poblacion} {str(cod_postal)}\")"
   ]
  },
  {
   "cell_type": "markdown",
   "metadata": {},
   "source": [
    "## Ejercicio 4\n",
    "¿Qué variables están mal escritas y por qué? Realiza primero tu hipótesis y luego ejecuta las variables para comprobarlo. En ese orden :)\n",
    "\n",
    "\n",
    "1. mi_variable = \"Economía\"\n",
    "2. otra_var = \"Ejercicio\n",
    "3. True = \"Ejercicio\"\n",
    "4. mi variab1e = \"Alpha\"\n",
    "5. exec = True\n",
    "6. import = 40\n",
    "7. 81mi_variable = \"Agua\"\n",
    "8. mi_variable10 = 6"
   ]
  },
  {
   "attachments": {},
   "cell_type": "markdown",
   "metadata": {},
   "source": [
    "1. mi_variable = \"Economia\"\n",
    "2. otra_var =\"Ejercicio\"\n",
    "3. True_var = \"Ejercicio\" \n",
    "4. mi_variable = \"Alpha\"\n",
    "5. exec = True\n",
    "6. import1 = 40 \n",
    "7. mi_variable81 = \"Agua\"\n",
    "8. mi_variable10 =6"
   ]
  },
  {
   "cell_type": "markdown",
   "metadata": {},
   "source": [
    "## Ejercicio 5\n",
    "Realiza un conversor de grados Celsius a Fahrenheit. El conversor tiene que recibir el input del usuario y devolver la conversión.\n",
    "\n",
    "La conversión de grados sigue la siguiente fórmula: F = (C × 9 / 5) + 32 "
   ]
  },
  {
   "cell_type": "code",
   "execution_count": 8,
   "metadata": {},
   "outputs": [
    {
     "name": "stdout",
     "output_type": "stream",
     "text": [
      "Esta es la temperatura:95.0F\n"
     ]
    }
   ],
   "source": [
    "celsius = int(input(\"Temperatura en Celsius\"))\n",
    "fahrenheit = (celsius * (9/5)) + 32\n",
    "print(f\"Esta es la temperatura:{fahrenheit}F\")"
   ]
  },
  {
   "cell_type": "markdown",
   "metadata": {},
   "source": [
    "## Ejercicio 6\n",
    "Comenta en la medida de lo posible el Ejercicio 5. Será suficiente con poner al menos un comentario de línea, y otro multilínea"
   ]
  },
  {
   "cell_type": "code",
   "execution_count": 11,
   "metadata": {},
   "outputs": [
    {
     "name": "stdout",
     "output_type": "stream",
     "text": [
      "Esta es la temperatura:\n",
      "            95.0F\n"
     ]
    }
   ],
   "source": [
    "#Pide al usuario la temperatura actual en grados celsius\n",
    "celsius = int(input(\"Temperatura en Celsius\"))\n",
    "# Conversión a grados Fahrenheit\n",
    "fahrenheit = (celsius * 9/5) + 32\n",
    "\"\"\"Imprime la temperatura en grados Fahrenheit\n",
    "junto a un mensaje\"\"\"\n",
    "print(f\"\"\"Esta es la temperatura:\n",
    "            {fahrenheit}F\"\"\")"
   ]
  }
 ],
 "metadata": {
  "kernelspec": {
   "display_name": "Python 3",
   "language": "python",
   "name": "python3"
  },
  "language_info": {
   "codemirror_mode": {
    "name": "ipython",
    "version": 3
   },
   "file_extension": ".py",
   "mimetype": "text/x-python",
   "name": "python",
   "nbconvert_exporter": "python",
   "pygments_lexer": "ipython3",
   "version": "3.7.4"
  },
  "vscode": {
   "interpreter": {
    "hash": "35df9af985c0a9ca94b175eada638357a7ba8d43dfdf790649b4983f7a933da6"
   }
  }
 },
 "nbformat": 4,
 "nbformat_minor": 4
}
