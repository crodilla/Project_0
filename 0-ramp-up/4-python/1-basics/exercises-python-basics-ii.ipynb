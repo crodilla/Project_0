{
 "cells": [
  {
   "cell_type": "markdown",
   "metadata": {},
   "source": [
    "![imagen](./img/ejercicios.png)"
   ]
  },
  {
   "cell_type": "markdown",
   "metadata": {},
   "source": [
    "# Ejercicios Python Basics II"
   ]
  },
  {
   "cell_type": "markdown",
   "metadata": {},
   "source": [
    "## Ejercicio 1\n",
    "* Crea dos variables numericas: un `int` y un `float`\n",
    "* Comprueba sus tipos\n",
    "* Sumalas en otra nueva\n",
    "* ¿De qué tipo es la nueva variable?\n",
    "* Elimina las dos primeras variables creadas"
   ]
  },
  {
   "cell_type": "code",
   "execution_count": 2,
   "metadata": {},
   "outputs": [
    {
     "name": "stdout",
     "output_type": "stream",
     "text": [
      "<class 'int'> <class 'float'>\n",
      "<class 'float'>\n"
     ]
    }
   ],
   "source": [
    "entero = 5\n",
    "decimal = 2.5\n",
    "print(type(entero), type(decimal))\n",
    "sumadas = entero + decimal\n",
    "print(type(sumadas))\n",
    "del [entero, decimal]\n",
    "#print(entero, decimal)\n"
   ]
  },
  {
   "cell_type": "markdown",
   "metadata": {},
   "source": [
    "## Ejercicio 2\n",
    "Escribe un programa para pasar de grados a radianes. Hay que usar `input`. Recuerda que la conversión se realiza mediante\n",
    "\n",
    "radianes = grados*(pi/180)"
   ]
  },
  {
   "cell_type": "code",
   "execution_count": 21,
   "metadata": {},
   "outputs": [
    {
     "name": "stdout",
     "output_type": "stream",
     "text": [
      "0.08726646259971647 0.0117096018735363\n"
     ]
    }
   ],
   "source": [
    "import math\n",
    "grados = int(input(\"What is the temperature in ºC?\"))\n",
    "\n",
    "def grad_to_rads (grads):\n",
    "    radianes = grads*(math.pi/180)\n",
    "    perroides = grads / 427\n",
    "    return radianes, perroides\n",
    "\n",
    "grads, perr = grad_to_rads(grados)\n",
    "print(grads, perr)"
   ]
  },
  {
   "cell_type": "markdown",
   "metadata": {},
   "source": [
    "## Ejercicio 3\n",
    "Escribe un programa que calcule el area de un paralelogramo (base x altura). También con `input`"
   ]
  },
  {
   "cell_type": "code",
   "execution_count": 32,
   "metadata": {},
   "outputs": [
    {
     "name": "stdout",
     "output_type": "stream",
     "text": [
      "625.0\n"
     ]
    }
   ],
   "source": [
    "base1 = float(input())\n",
    "altura = float(input())\n",
    "\n",
    "def area_paralelogramo (base, alt):\n",
    "    area = base * alt\n",
    "    return area\n",
    "y = area_paralelogramo(base1, altura)\n",
    "print(area)"
   ]
  },
  {
   "cell_type": "markdown",
   "metadata": {},
   "source": [
    "## Ejercicio 4\n",
    "Tenemos las siguientes variables:\n",
    "\n",
    "```Python\n",
    "A = 4\n",
    "B = \"Text\"\n",
    "C = 4.1\n",
    "```\n",
    "\n",
    "Comprueba:\n",
    "1. Si A y B son equivalentes\n",
    "2. Si A y C NO son equivalentes\n",
    "3. Si A es mayor que C \n",
    "4. Si C es menor o igual que A\n",
    "5. Si B NO es equivalente a C"
   ]
  },
  {
   "cell_type": "code",
   "execution_count": 43,
   "metadata": {},
   "outputs": [
    {
     "name": "stdout",
     "output_type": "stream",
     "text": [
      "False\n",
      "True\n",
      "False\n",
      "False\n",
      "True\n"
     ]
    }
   ],
   "source": [
    "A = 4\n",
    "B = \"Text\"\n",
    "C = 4.1\n",
    "\n",
    "print(A == B)\n",
    "print(A != C)\n",
    "print(A > C)\n",
    "print(C <= A)\n",
    "print(B != C)"
   ]
  },
  {
   "cell_type": "markdown",
   "metadata": {},
   "source": [
    "## Ejercicio 5\n",
    "Crea un programa donde se recojan dos inputs del usuario, y el output del programa sea si esos inputs son iguales o no"
   ]
  },
  {
   "cell_type": "code",
   "execution_count": 44,
   "metadata": {},
   "outputs": [
    {
     "name": "stdout",
     "output_type": "stream",
     "text": [
      "True\n"
     ]
    }
   ],
   "source": [
    "input1 = input()\n",
    "input2 = input()\n",
    "print(input1 == input2)\n",
    "\n",
    "\n",
    "def are_equals (i1, i2):\n",
    "    equals = i1 == i2\n",
    "    return equals\n",
    "\n",
    "f = are_equals(input1, input2)\n",
    "print(f)"
   ]
  },
  {
   "cell_type": "markdown",
   "metadata": {},
   "source": [
    "## Ejercicio 6\n",
    "Mismo programa que en 5, pero en esta ocasión tienen que ser tres inputs y dos salidas. Una de las salidas que nos indique si todos son iguales, y la otra si al menos dos inputs sí que lo son"
   ]
  },
  {
   "cell_type": "code",
   "execution_count": 15,
   "metadata": {},
   "outputs": [
    {
     "name": "stdout",
     "output_type": "stream",
     "text": [
      "False\n",
      "True\n"
     ]
    }
   ],
   "source": [
    "input1 = input()\n",
    "input2 = input()\n",
    "input3 = input()\n",
    "\n",
    "print(input1 == input2 and input1 == input3 and input2 == input3)\n",
    "print(input1 == input2 or input1 == input3 or input2 == input3)"
   ]
  },
  {
   "cell_type": "markdown",
   "metadata": {},
   "source": [
    "## Ejercicio 7\n",
    "Crea un programa que recoja dos inputs. Tiene que comprobar si su suma es igual, superior o inferior a 10"
   ]
  },
  {
   "cell_type": "code",
   "execution_count": 19,
   "metadata": {},
   "outputs": [
    {
     "name": "stdout",
     "output_type": "stream",
     "text": [
      "La suma es mayor que 10\n"
     ]
    }
   ],
   "source": [
    "input1 = int(input())\n",
    "input2 = int(input())\n",
    "\n",
    "suma = input1 + input2\n",
    "\n",
    "if suma == 10:\n",
    "    print(\"La suma es igual a 10\")\n",
    "elif suma < 10:\n",
    "    print(\"La suma es menor que 10\")\n",
    "else:\n",
    "    print(\"La suma es mayor que 10\")"
   ]
  },
  {
   "cell_type": "markdown",
   "metadata": {},
   "source": [
    "## Ejercicio 8\n",
    "Razona sin ejecutar código el output que obtendremos de las siguientes sentencias\n",
    "1. True and True and False\n",
    "2. not ((True or False) and (True or False))\n",
    "3. (False or False or False or True) and False\n",
    "4. not False and True and not True"
   ]
  },
  {
   "attachments": {},
   "cell_type": "markdown",
   "metadata": {},
   "source": [
    "1. False\n",
    "2. False\n",
    "3. False\n",
    "4. False"
   ]
  },
  {
   "cell_type": "markdown",
   "metadata": {},
   "source": [
    "## Ejercicio 9\n",
    "Para este ejercicio vamos a poner en práctica [las funciones built in](https://docs.python.org/3/library/functions.html).\n",
    "\n",
    "1. Calcula el máximo de la lista: [4, 6, 8, -1]\n",
    "2. Suma todos los elementos de la lista anterior\n",
    "3. Redondea este float a 3 dígitos decimales: 63.451256965\n",
    "4. Valor absoluto de: -74"
   ]
  },
  {
   "cell_type": "code",
   "execution_count": 26,
   "metadata": {},
   "outputs": [
    {
     "name": "stdout",
     "output_type": "stream",
     "text": [
      "8\n",
      "17\n",
      "63.451\n",
      "74\n",
      "74.0\n"
     ]
    }
   ],
   "source": [
    "num_list = [4, 6, 8, -1]\n",
    "print(max(num_list))\n",
    "print(sum(num_list))\n",
    "\n",
    "print(round(63.451256965, ndigits=3))\n",
    "print(abs(-74))\n",
    "import math\n",
    "print(math.fabs(-74))"
   ]
  },
  {
   "cell_type": "markdown",
   "metadata": {},
   "source": [
    "## Ejercicio 10\n",
    "Para el siguiente string se pide imprimir por pantalla los siguientes casos\n",
    "\n",
    "    \"A quien madruga, dios le ayuda\"\n",
    "\n",
    "1. Pasarlo todo a mayusculas\n",
    "2. Pasarlo todo a minusculas\n",
    "3. Solo las iniciales de las palabras\n",
    "4. Crea una lista dividiendolo por sus espacios\n",
    "5. Sustituye las comas `,` por puntos y comas `;`\n",
    "6. Elimina las `a` minusculas"
   ]
  },
  {
   "cell_type": "code",
   "execution_count": 3,
   "metadata": {},
   "outputs": [
    {
     "name": "stdout",
     "output_type": "stream",
     "text": [
      "A QUIEN MADRUGA, DIOS LE AYUDA\n",
      "a quien madruga, dios le ayuda\n",
      "A Quien Madruga, Dios Le Ayuda\n",
      "['A', 'q', 'm', 'd', 'l', 'a']\n"
     ]
    }
   ],
   "source": [
    "frase = \"A quien madruga, dios le ayuda\"\n",
    "\n",
    "print(frase.upper())\n",
    "print(frase.lower())\n",
    "print(frase.title())\n",
    "\n",
    "palabras = frase.split(\" \")\n",
    "lista = []\n",
    "for i in palabras:\n",
    "    lista.append(i[0])\n",
    "print(lista)\n",
    "\n",
    "print(frase.replace(\",\", \";\"))\n",
    "print(frase.replace(\"a\", \"\"))"
   ]
  },
  {
   "cell_type": "markdown",
   "metadata": {},
   "source": [
    "## Ejercicio 11\n",
    "1. Crea una lista con 3 elementos numéricos\n",
    "2. Añade un cuarto elemento\n",
    "3. Calcula la suma de todos\n",
    "4. Elimina el segundo elemento de la lista\n",
    "5. Añade otro elemento en la posicion 3 de la lista\n",
    "6. Crea otra lista con 4 elementos y concaténala a la que ya tenías."
   ]
  },
  {
   "cell_type": "code",
   "execution_count": 6,
   "metadata": {},
   "outputs": [
    {
     "name": "stdout",
     "output_type": "stream",
     "text": [
      "[5, 9, 13]\n",
      "[5, 9, 13, 2, 4, 8, 10]\n"
     ]
    }
   ],
   "source": [
    "lista_numeros = [5, 6, 9]\n",
    "lista_numeros.append(13)\n",
    "sum(lista_numeros)\n",
    "lista_numeros.remove(lista_numeros[1])\n",
    "print(lista_numeros)\n",
    "lista_numeros_2 = [2, 4, 8, 10]\n",
    "lista_numeros.extend(lista_numeros_2)\n",
    "print(lista_numeros)"
   ]
  }
 ],
 "metadata": {
  "kernelspec": {
   "display_name": "Python 3",
   "language": "python",
   "name": "python3"
  },
  "language_info": {
   "codemirror_mode": {
    "name": "ipython",
    "version": 3
   },
   "file_extension": ".py",
   "mimetype": "text/x-python",
   "name": "python",
   "nbconvert_exporter": "python",
   "pygments_lexer": "ipython3",
   "version": "3.7.4"
  },
  "vscode": {
   "interpreter": {
    "hash": "35df9af985c0a9ca94b175eada638357a7ba8d43dfdf790649b4983f7a933da6"
   }
  }
 },
 "nbformat": 4,
 "nbformat_minor": 4
}
