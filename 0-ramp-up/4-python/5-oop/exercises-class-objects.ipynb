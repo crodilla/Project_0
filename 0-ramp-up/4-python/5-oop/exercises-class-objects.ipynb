{
 "cells": [
  {
   "cell_type": "markdown",
   "metadata": {},
   "source": [
    "![imagen](./img/ejercicios.png)\n",
    "\n",
    "# Ejercicios Clases y Objetos"
   ]
  },
  {
   "cell_type": "markdown",
   "metadata": {},
   "source": [
    "## Ejercicio 1\n",
    "Somos una empresa que tiene varias tiendas de electrodomesticos. Necesitamos un programa para manejar las tiendas, ver las ventas que han tenido, cuántos empleados hay, etc... Para ello vamos a modelizar la tienda en una clase, que tendrá las siguientes características:\n",
    "* Nombre clase: \"Tienda\"\n",
    "* Atributos comunes:\n",
    "    * Tipo: \"Electrodomésticos\"\n",
    "    * Abierta: True\n",
    "* Atributos propios de cada tienda:\n",
    "    * Nombre - String\n",
    "    * Dirección - String\n",
    "    * Número de empleados - int\n",
    "    * Ventas ultimos 3 meses - Lista de 3 numeros\n",
    "* Método para calcular las ventas de todos los meses, que devuelva un numero con todas las ventas.\n",
    "* Método que calcula la media de ventas de los ultimos meses, por empleado\n",
    "* Método que devuelve en un string el nombre de la tienda, junto con su dirección.\n",
    "* Método que obtiene las ventas del último mes.\n",
    "* Método para dar una proyección de las ventas en caso de haber invertido X dinero en marketing en esa tienda. Siendo X el parámetro de entrada. Si X es menor de 1000, las ventas de los ultimos 3 meses hubiesen sido de (1.2 x ventas), si es mayor o igual de 1000, las ventas hubiesen sido de (1.5 x venta). El método reescribe el atributo de ventas en los últimos 3 meses, y además devuelve las ventas con el aumento.\n",
    "\n",
    "Se pide:\n",
    "1. Implementar la clase \"Tienda\"\n",
    "2. Crear tres tiendas con datos inventados\n",
    "3. Comprueba en al menos una de ellas, todo lo implementado en la clase tienda (sus atributos, media de ventas, ventas/empleado...)\n",
    "3. Calcular las ventas del último mes de todas las tiendas. Para ello usa el bucle `for`\n",
    "4. Imprime por pantalla los nombres de las tiendas cuya dirección lleve el string \"Avenida\"\n",
    "5. Seguro que ya has hecho este apartado... Documenta la clase :)"
   ]
  },
  {
   "cell_type": "code",
   "execution_count": 2,
   "metadata": {},
   "outputs": [],
   "source": [
    "class Tienda(object):\n",
    "    '''\n",
    "    Clase con los componentes de una tienda de electodomésticos.\n",
    "    Atributos:\n",
    "        tipo = \"Electrodomesticos\" --> String\n",
    "        abierta = True --> Boolean\n",
    "    '''\n",
    "    def __init__(self, nombre, direccion, number_employ, ventas):\n",
    "        self.tipo = \"Electrodomesticos\"\n",
    "        self.abierta = True\n",
    "        self.pi = 3.14\n",
    "        '''\n",
    "        Atributos particulares de cada tienda\n",
    "        Input:\n",
    "            nombre : string\n",
    "            direccion : string\n",
    "            number_employ : int\n",
    "            ventas : list\n",
    "        '''\n",
    "        self.nombre = nombre\n",
    "        self.direccion = direccion\n",
    "        self.number_employ = number_employ\n",
    "        self.ventas = ventas\n",
    "    def total_ventas(self,):\n",
    "        return sum(self.ventas)\n",
    "    def venta_empleado(self,):\n",
    "        total_ventas = sum(self.ventas)\n",
    "        return total_ventas/self.number_employ\n",
    "    def nombre_dir(self,):\n",
    "        print(f\"La tienda {self.nombre} con dirección {self.direccion}\")\n",
    "    def ventas_ult_mes(self,):\n",
    "        return self.ventas[-1]\n",
    "    def proy_marketing(self, dinero):\n",
    "        for i in range(len(self.ventas)):\n",
    "            if dinero < 1000:\n",
    "                self.ventas[i] = self.ventas[i] * 1.2\n",
    "            else:\n",
    "                self.ventas[i] = self.ventas[i] * 1.5\n",
    "        return self.ventas\n",
    "\n"
   ]
  },
  {
   "cell_type": "code",
   "execution_count": 3,
   "metadata": {},
   "outputs": [
    {
     "name": "stdout",
     "output_type": "stream",
     "text": [
      "3\n",
      "1.0\n",
      "[0.0, 1.5, 3.0]\n"
     ]
    }
   ],
   "source": [
    "\n",
    "tienda_1 = Tienda(\"a\", \"b\", 3, [0,1,2])\n",
    "tienda_2 = Tienda(\"d\", \"e\", 2, [3, 4, 5])\n",
    "tienda_3 = Tienda(\"e\", \"f\", 4, [6, 7, 8])\n",
    "\n",
    "print(tienda_1.total_ventas())\n",
    "\n",
    "print(tienda_1.venta_empleado())\n",
    "\n",
    "print(tienda_1.proy_marketing(1000))\n"
   ]
  },
  {
   "cell_type": "code",
   "execution_count": null,
   "metadata": {},
   "outputs": [],
   "source": [
    "total_tiendas =[]\n",
    "ventas_tiendas_ult_mes =[]\n",
    "for i in total_tiendas:\n",
    "    ventas_tiendas_ult_mes.append(i.ventas_ult_mes())\n",
    "print(ventas_tiendas_ult_mes)\n",
    "\n",
    "tot_tiendas = [tienda_1, tienda_2, tienda_3]\n",
    "for i in tot_tiendas:\n",
    "    if \"avenida\" in i.direccion.lower():\n",
    "        print(i.nombre)\n"
   ]
  },
  {
   "cell_type": "markdown",
   "metadata": {},
   "source": [
    "## Ejercicio 2\n",
    "En este ejercicio vamos a implementar una clase *Perro* en Python. La clase tiene las siguientes características:\n",
    "* Cosas que sabemos seguro que tiene un perro\n",
    "    * Tiene 4 patas\n",
    "    * 2 orejas\n",
    "    * 2 ojos\n",
    "    * Una velocidad de 0. Por defecto, el perro está parado\n",
    "* Cuando se inicialice:\n",
    "    * El perro será de una determinada raza\n",
    "    * Por defecto tendrá pelo \"Marrón\", a no ser que se diga lo contrario.\n",
    "    * Por defecto no tendrá dueño, a no ser que se diga lo contrario.\n",
    "    \n",
    "* Dispondrá también de un método llamado andar, que tiene un argumento de entrada (aumento_velocidad). Este valor se le sumará a la velocidad que ya llevaba el perro.\n",
    "* Necesita otro método (parar), donde pondremos la velocidad a 0.\n",
    "* Otro método llamado \"ladrar\", que tendrá un argumento de entrada, y la salida será el siguiente string: \"GUAU!\" + el argumento de entrada.\n",
    "\n",
    "\n",
    "Se pide:\n",
    "* Implementa la clase *Perro*\n",
    "* Crea un objeto de tipo *Perro*, sin dueño\n",
    "* Comprueba que están bien todos sus atributos\n",
    "* Prueba que ande, y comprueba su velocidad\n",
    "* Páralo\n",
    "* Documenta la clase *Perro*"
   ]
  },
  {
   "cell_type": "code",
   "execution_count": null,
   "metadata": {},
   "outputs": [],
   "source": []
  }
 ],
 "metadata": {
  "kernelspec": {
   "display_name": "Python 3",
   "language": "python",
   "name": "python3"
  },
  "language_info": {
   "codemirror_mode": {
    "name": "ipython",
    "version": 3
   },
   "file_extension": ".py",
   "mimetype": "text/x-python",
   "name": "python",
   "nbconvert_exporter": "python",
   "pygments_lexer": "ipython3",
   "version": "3.7.4"
  },
  "vscode": {
   "interpreter": {
    "hash": "35df9af985c0a9ca94b175eada638357a7ba8d43dfdf790649b4983f7a933da6"
   }
  }
 },
 "nbformat": 4,
 "nbformat_minor": 4
}
